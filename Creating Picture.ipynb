{
 "cells": [
  {
   "cell_type": "code",
   "execution_count": 4,
   "id": "a10641c9",
   "metadata": {},
   "outputs": [],
   "source": [
    "import cv2\n",
    "import numpy as np\n",
    "import matplotlib.pyplot as plt "
   ]
  },
  {
   "cell_type": "code",
   "execution_count": 5,
   "id": "e254b49f",
   "metadata": {},
   "outputs": [],
   "source": [
    "img = np.zeros((200,356,3), dtype=np.uint8) \n",
    "for i in range(img.shape[1]):\n",
    "    for j in range(img.shape[0]):\n",
    "        img[j,i]=i"
   ]
  },
  {
   "cell_type": "code",
   "execution_count": 6,
   "id": "8e83f6ab",
   "metadata": {},
   "outputs": [],
   "source": [
    "cv2.imshow('a',img)\n",
    "cv2.waitKey(0)\n",
    "cv2.destroyAllWindows()"
   ]
  },
  {
   "cell_type": "code",
   "execution_count": null,
   "id": "e473e151",
   "metadata": {},
   "outputs": [],
   "source": []
  }
 ],
 "metadata": {
  "kernelspec": {
   "display_name": "Python 3",
   "language": "python",
   "name": "python3"
  },
  "language_info": {
   "codemirror_mode": {
    "name": "ipython",
    "version": 3
   },
   "file_extension": ".py",
   "mimetype": "text/x-python",
   "name": "python",
   "nbconvert_exporter": "python",
   "pygments_lexer": "ipython3",
   "version": "3.8.1"
  }
 },
 "nbformat": 4,
 "nbformat_minor": 5
}
