{
 "cells": [
  {
   "cell_type": "code",
   "execution_count": 17,
   "id": "af796815",
   "metadata": {},
   "outputs": [],
   "source": [
    "import cv2"
   ]
  },
  {
   "cell_type": "code",
   "execution_count": 18,
   "id": "0be3b20a",
   "metadata": {},
   "outputs": [],
   "source": [
    "pic1 = cv2.imread('img1.jpg')"
   ]
  },
  {
   "cell_type": "code",
   "execution_count": 19,
   "id": "492a6155",
   "metadata": {},
   "outputs": [
    {
     "data": {
      "text/plain": [
       "(194, 259, 3)"
      ]
     },
     "execution_count": 19,
     "metadata": {},
     "output_type": "execute_result"
    }
   ],
   "source": [
    "pic1.shape"
   ]
  },
  {
   "cell_type": "code",
   "execution_count": null,
   "id": "2ab4f471",
   "metadata": {},
   "outputs": [],
   "source": []
  },
  {
   "cell_type": "code",
   "execution_count": 20,
   "id": "c8d0cd72",
   "metadata": {},
   "outputs": [],
   "source": [
    "pic2 = cv2.imread('img2.jpg')"
   ]
  },
  {
   "cell_type": "code",
   "execution_count": 21,
   "id": "b769a304",
   "metadata": {},
   "outputs": [
    {
     "data": {
      "text/plain": [
       "(194, 259, 3)"
      ]
     },
     "execution_count": 21,
     "metadata": {},
     "output_type": "execute_result"
    }
   ],
   "source": [
    "pic2.shape"
   ]
  },
  {
   "cell_type": "code",
   "execution_count": null,
   "id": "5c3392f7",
   "metadata": {},
   "outputs": [],
   "source": []
  },
  {
   "cell_type": "code",
   "execution_count": 22,
   "id": "1c729338",
   "metadata": {},
   "outputs": [],
   "source": [
    "cv2.imshow('pic1',pic1)\n",
    "cv2.imshow('pic2',pic2)\n",
    "cv2.waitKey(0)\n",
    "cv2.destroyAllWindows()"
   ]
  },
  {
   "cell_type": "code",
   "execution_count": null,
   "id": "c8561a97",
   "metadata": {},
   "outputs": [],
   "source": []
  },
  {
   "cell_type": "code",
   "execution_count": null,
   "id": "9b2572b3",
   "metadata": {},
   "outputs": [],
   "source": []
  },
  {
   "cell_type": "code",
   "execution_count": 23,
   "id": "d0d5c788",
   "metadata": {},
   "outputs": [
    {
     "data": {
      "text/plain": [
       "-1"
      ]
     },
     "execution_count": 23,
     "metadata": {},
     "output_type": "execute_result"
    }
   ],
   "source": [
    "crop_pic1 = pic1[10:50,150:200]\n",
    "pic2[10:50,150:200] = crop_pic1\n",
    "cv2.imshow('swaped', pic2)\n",
    "cv2.waitKey(0)"
   ]
  },
  {
   "cell_type": "code",
   "execution_count": 24,
   "id": "0ccd8120",
   "metadata": {},
   "outputs": [
    {
     "data": {
      "text/plain": [
       "-1"
      ]
     },
     "execution_count": 24,
     "metadata": {},
     "output_type": "execute_result"
    }
   ],
   "source": [
    "pic2 = cv2.imread('img2.jpg')\n",
    "crop_pic2 = pic2[10:50,150:200]\n",
    "pic1[10:50,150:200] = crop_pic2\n",
    "cv2.imshow('swaped', pic1)\n",
    "cv2.waitKey(0)"
   ]
  },
  {
   "cell_type": "code",
   "execution_count": null,
   "id": "4a1d8884",
   "metadata": {},
   "outputs": [],
   "source": []
  }
 ],
 "metadata": {
  "kernelspec": {
   "display_name": "Python 3",
   "language": "python",
   "name": "python3"
  },
  "language_info": {
   "codemirror_mode": {
    "name": "ipython",
    "version": 3
   },
   "file_extension": ".py",
   "mimetype": "text/x-python",
   "name": "python",
   "nbconvert_exporter": "python",
   "pygments_lexer": "ipython3",
   "version": "3.8.1"
  }
 },
 "nbformat": 4,
 "nbformat_minor": 5
}
